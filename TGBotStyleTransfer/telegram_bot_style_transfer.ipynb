{
  "nbformat": 4,
  "nbformat_minor": 0,
  "metadata": {
    "colab": {
      "name": "telegram_bot_style_transfer.ipynb",
      "provenance": [],
      "collapsed_sections": []
    },
    "kernelspec": {
      "name": "python3",
      "display_name": "Python 3"
    },
    "accelerator": "GPU",
    "widgets": {
      "application/vnd.jupyter.widget-state+json": {
        "c9a992afab904088ae8a20b950c58604": {
          "model_module": "@jupyter-widgets/controls",
          "model_name": "HBoxModel",
          "state": {
            "_view_name": "HBoxView",
            "_dom_classes": [],
            "_model_name": "HBoxModel",
            "_view_module": "@jupyter-widgets/controls",
            "_model_module_version": "1.5.0",
            "_view_count": null,
            "_view_module_version": "1.5.0",
            "box_style": "",
            "layout": "IPY_MODEL_73f497d4edbe4ecf8400e49f7e93f999",
            "_model_module": "@jupyter-widgets/controls",
            "children": [
              "IPY_MODEL_2f7575c14cb645aea4f0da7cc32bde8c",
              "IPY_MODEL_64d5f5670d6a420a810747b950b261b7"
            ]
          }
        },
        "73f497d4edbe4ecf8400e49f7e93f999": {
          "model_module": "@jupyter-widgets/base",
          "model_name": "LayoutModel",
          "state": {
            "_view_name": "LayoutView",
            "grid_template_rows": null,
            "right": null,
            "justify_content": null,
            "_view_module": "@jupyter-widgets/base",
            "overflow": null,
            "_model_module_version": "1.2.0",
            "_view_count": null,
            "flex_flow": null,
            "width": null,
            "min_width": null,
            "border": null,
            "align_items": null,
            "bottom": null,
            "_model_module": "@jupyter-widgets/base",
            "top": null,
            "grid_column": null,
            "overflow_y": null,
            "overflow_x": null,
            "grid_auto_flow": null,
            "grid_area": null,
            "grid_template_columns": null,
            "flex": null,
            "_model_name": "LayoutModel",
            "justify_items": null,
            "grid_row": null,
            "max_height": null,
            "align_content": null,
            "visibility": null,
            "align_self": null,
            "height": null,
            "min_height": null,
            "padding": null,
            "grid_auto_rows": null,
            "grid_gap": null,
            "max_width": null,
            "order": null,
            "_view_module_version": "1.2.0",
            "grid_template_areas": null,
            "object_position": null,
            "object_fit": null,
            "grid_auto_columns": null,
            "margin": null,
            "display": null,
            "left": null
          }
        },
        "2f7575c14cb645aea4f0da7cc32bde8c": {
          "model_module": "@jupyter-widgets/controls",
          "model_name": "FloatProgressModel",
          "state": {
            "_view_name": "ProgressView",
            "style": "IPY_MODEL_b7bacdf262d04e0dacbd59f0200fc86c",
            "_dom_classes": [],
            "description": "100%",
            "_model_name": "FloatProgressModel",
            "bar_style": "success",
            "max": 574673361,
            "_view_module": "@jupyter-widgets/controls",
            "_model_module_version": "1.5.0",
            "value": 574673361,
            "_view_count": null,
            "_view_module_version": "1.5.0",
            "orientation": "horizontal",
            "min": 0,
            "description_tooltip": null,
            "_model_module": "@jupyter-widgets/controls",
            "layout": "IPY_MODEL_cc4a8d504cf84f428a8fd2211c5ed683"
          }
        },
        "64d5f5670d6a420a810747b950b261b7": {
          "model_module": "@jupyter-widgets/controls",
          "model_name": "HTMLModel",
          "state": {
            "_view_name": "HTMLView",
            "style": "IPY_MODEL_58eeb3b8021145d7b931d1b501396724",
            "_dom_classes": [],
            "description": "",
            "_model_name": "HTMLModel",
            "placeholder": "​",
            "_view_module": "@jupyter-widgets/controls",
            "_model_module_version": "1.5.0",
            "value": " 548M/548M [00:04&lt;00:00, 124MB/s]",
            "_view_count": null,
            "_view_module_version": "1.5.0",
            "description_tooltip": null,
            "_model_module": "@jupyter-widgets/controls",
            "layout": "IPY_MODEL_7ba51aeb459e496ba5f6be54dff068c6"
          }
        },
        "b7bacdf262d04e0dacbd59f0200fc86c": {
          "model_module": "@jupyter-widgets/controls",
          "model_name": "ProgressStyleModel",
          "state": {
            "_view_name": "StyleView",
            "_model_name": "ProgressStyleModel",
            "description_width": "initial",
            "_view_module": "@jupyter-widgets/base",
            "_model_module_version": "1.5.0",
            "_view_count": null,
            "_view_module_version": "1.2.0",
            "bar_color": null,
            "_model_module": "@jupyter-widgets/controls"
          }
        },
        "cc4a8d504cf84f428a8fd2211c5ed683": {
          "model_module": "@jupyter-widgets/base",
          "model_name": "LayoutModel",
          "state": {
            "_view_name": "LayoutView",
            "grid_template_rows": null,
            "right": null,
            "justify_content": null,
            "_view_module": "@jupyter-widgets/base",
            "overflow": null,
            "_model_module_version": "1.2.0",
            "_view_count": null,
            "flex_flow": null,
            "width": null,
            "min_width": null,
            "border": null,
            "align_items": null,
            "bottom": null,
            "_model_module": "@jupyter-widgets/base",
            "top": null,
            "grid_column": null,
            "overflow_y": null,
            "overflow_x": null,
            "grid_auto_flow": null,
            "grid_area": null,
            "grid_template_columns": null,
            "flex": null,
            "_model_name": "LayoutModel",
            "justify_items": null,
            "grid_row": null,
            "max_height": null,
            "align_content": null,
            "visibility": null,
            "align_self": null,
            "height": null,
            "min_height": null,
            "padding": null,
            "grid_auto_rows": null,
            "grid_gap": null,
            "max_width": null,
            "order": null,
            "_view_module_version": "1.2.0",
            "grid_template_areas": null,
            "object_position": null,
            "object_fit": null,
            "grid_auto_columns": null,
            "margin": null,
            "display": null,
            "left": null
          }
        },
        "58eeb3b8021145d7b931d1b501396724": {
          "model_module": "@jupyter-widgets/controls",
          "model_name": "DescriptionStyleModel",
          "state": {
            "_view_name": "StyleView",
            "_model_name": "DescriptionStyleModel",
            "description_width": "",
            "_view_module": "@jupyter-widgets/base",
            "_model_module_version": "1.5.0",
            "_view_count": null,
            "_view_module_version": "1.2.0",
            "_model_module": "@jupyter-widgets/controls"
          }
        },
        "7ba51aeb459e496ba5f6be54dff068c6": {
          "model_module": "@jupyter-widgets/base",
          "model_name": "LayoutModel",
          "state": {
            "_view_name": "LayoutView",
            "grid_template_rows": null,
            "right": null,
            "justify_content": null,
            "_view_module": "@jupyter-widgets/base",
            "overflow": null,
            "_model_module_version": "1.2.0",
            "_view_count": null,
            "flex_flow": null,
            "width": null,
            "min_width": null,
            "border": null,
            "align_items": null,
            "bottom": null,
            "_model_module": "@jupyter-widgets/base",
            "top": null,
            "grid_column": null,
            "overflow_y": null,
            "overflow_x": null,
            "grid_auto_flow": null,
            "grid_area": null,
            "grid_template_columns": null,
            "flex": null,
            "_model_name": "LayoutModel",
            "justify_items": null,
            "grid_row": null,
            "max_height": null,
            "align_content": null,
            "visibility": null,
            "align_self": null,
            "height": null,
            "min_height": null,
            "padding": null,
            "grid_auto_rows": null,
            "grid_gap": null,
            "max_width": null,
            "order": null,
            "_view_module_version": "1.2.0",
            "grid_template_areas": null,
            "object_position": null,
            "object_fit": null,
            "grid_auto_columns": null,
            "margin": null,
            "display": null,
            "left": null
          }
        }
      }
    }
  },
  "cells": [
    {
      "cell_type": "markdown",
      "metadata": {
        "id": "BFEcFKcbfLwi",
        "colab_type": "text"
      },
      "source": [
        "###Project TelegramBot for StyleTransfer by Oparina Daria\n",
        "------------------------------------------------------\n",
        "#How it works\n",
        "------------------------------------------------------\n",
        "Write to bot @Style_transfer_bot\n",
        "\n",
        "Begin with /start\n",
        "\n",
        "Then he will send you an example of how you should send two photos\n",
        "\n",
        "Send photo AND(!!!) write in the SAME message input | style\n",
        "\n",
        "Then he will analyse the data and send you the result\n",
        "\n",
        "Please, use VPN for it\n",
        "\n",
        "Also, I used pictures with google colab, they will be attached in the github https://github.com/DoolyEvgesha/DeepLearningSchool/tree/master/TGBotStyleTransfer"
      ]
    },
    {
      "cell_type": "code",
      "metadata": {
        "id": "ywFUOvggACpn",
        "colab_type": "code",
        "colab": {
          "base_uri": "https://localhost:8080/",
          "height": 377
        },
        "outputId": "7a8a761a-6ffe-4b42-9044-6bf7de52e9cb"
      },
      "source": [
        "!pip install pyTelegramBotAPI\n",
        "!pip3 install torch torchvision\n",
        "!pip3 install pillow==4.1.1\n",
        "!pip install requests"
      ],
      "execution_count": null,
      "outputs": [
        {
          "output_type": "stream",
          "text": [
            "Requirement already satisfied: pyTelegramBotAPI in /usr/local/lib/python3.6/dist-packages (3.7.1)\n",
            "Requirement already satisfied: requests in /usr/local/lib/python3.6/dist-packages (from pyTelegramBotAPI) (2.23.0)\n",
            "Requirement already satisfied: six in /usr/local/lib/python3.6/dist-packages (from pyTelegramBotAPI) (1.12.0)\n",
            "Requirement already satisfied: certifi>=2017.4.17 in /usr/local/lib/python3.6/dist-packages (from requests->pyTelegramBotAPI) (2020.4.5.1)\n",
            "Requirement already satisfied: urllib3!=1.25.0,!=1.25.1,<1.26,>=1.21.1 in /usr/local/lib/python3.6/dist-packages (from requests->pyTelegramBotAPI) (1.24.3)\n",
            "Requirement already satisfied: idna<3,>=2.5 in /usr/local/lib/python3.6/dist-packages (from requests->pyTelegramBotAPI) (2.9)\n",
            "Requirement already satisfied: chardet<4,>=3.0.2 in /usr/local/lib/python3.6/dist-packages (from requests->pyTelegramBotAPI) (3.0.4)\n",
            "Requirement already satisfied: torch in /usr/local/lib/python3.6/dist-packages (1.5.0+cu101)\n",
            "Requirement already satisfied: torchvision in /usr/local/lib/python3.6/dist-packages (0.6.0+cu101)\n",
            "Requirement already satisfied: numpy in /usr/local/lib/python3.6/dist-packages (from torch) (1.18.5)\n",
            "Requirement already satisfied: future in /usr/local/lib/python3.6/dist-packages (from torch) (0.16.0)\n",
            "Requirement already satisfied: pillow>=4.1.1 in /usr/local/lib/python3.6/dist-packages (from torchvision) (4.1.1)\n",
            "Requirement already satisfied: olefile in /usr/local/lib/python3.6/dist-packages (from pillow>=4.1.1->torchvision) (0.46)\n",
            "Requirement already satisfied: pillow==4.1.1 in /usr/local/lib/python3.6/dist-packages (4.1.1)\n",
            "Requirement already satisfied: olefile in /usr/local/lib/python3.6/dist-packages (from pillow==4.1.1) (0.46)\n",
            "Requirement already satisfied: requests in /usr/local/lib/python3.6/dist-packages (2.23.0)\n",
            "Requirement already satisfied: chardet<4,>=3.0.2 in /usr/local/lib/python3.6/dist-packages (from requests) (3.0.4)\n",
            "Requirement already satisfied: urllib3!=1.25.0,!=1.25.1,<1.26,>=1.21.1 in /usr/local/lib/python3.6/dist-packages (from requests) (1.24.3)\n",
            "Requirement already satisfied: idna<3,>=2.5 in /usr/local/lib/python3.6/dist-packages (from requests) (2.9)\n",
            "Requirement already satisfied: certifi>=2017.4.17 in /usr/local/lib/python3.6/dist-packages (from requests) (2020.4.5.1)\n"
          ],
          "name": "stdout"
        }
      ]
    },
    {
      "cell_type": "code",
      "metadata": {
        "id": "7bpPLkfHN5zr",
        "colab_type": "code",
        "colab": {}
      },
      "source": [
        "%matplotlib inline\n",
        "from PIL import Image\n",
        "\n",
        "\n",
        "import torch\n",
        "import torch.nn as nn\n",
        "import torch.nn.functional as F\n",
        "import torch.optim as optim\n",
        "\n",
        "import matplotlib.pyplot as plt\n",
        "\n",
        "\n",
        "import torchvision.transforms as transforms\n",
        "import torchvision.models as models\n",
        "\n",
        "import copy\n",
        "\n",
        "import telebot\n",
        "from telebot import types\n",
        "import requests"
      ],
      "execution_count": null,
      "outputs": []
    },
    {
      "cell_type": "code",
      "metadata": {
        "id": "jpp2hJyrJFg9",
        "colab_type": "code",
        "colab": {}
      },
      "source": [
        "imsize = 128  \n",
        "\n",
        "loader = transforms.Compose([\n",
        "    transforms.Resize(imsize),  # нормируем размер изображения\n",
        "    transforms.CenterCrop(imsize),\n",
        "    transforms.ToTensor()])  # превращаем в удобный формат\n",
        "\n",
        "device = torch.device(\"cuda\" if torch.cuda.is_available() else \"cpu\")\n",
        "def image_loader(image_name):\n",
        "    image = Image.open(image_name)\n",
        "    image = loader(image).unsqueeze(0)\n",
        "    return image.to(device, torch.float)\n",
        "\n",
        "\n",
        "unloader = transforms.ToPILImage() # тензор в кратинку  \n",
        "\n",
        "plt.ion() \n",
        "\n",
        "def imshow(tensor, title=None):\n",
        "    image = tensor.cpu().clone()   \n",
        "    image = image.squeeze(0)      # функция для отрисовки изображения\n",
        "    image = unloader(image)\n",
        "    plt.imshow(image)\n",
        "    if title is not None:\n",
        "        plt.title(title)\n",
        "    plt.pause(0.001) \n",
        "\n",
        "# # отрисовка\n",
        "\n",
        "# plt.figure()\n",
        "# imshow(style_img, title='Style Image')\n",
        "\n",
        "# plt.figure()\n",
        "# imshow(content_img, title='Content Image')"
      ],
      "execution_count": null,
      "outputs": []
    },
    {
      "cell_type": "code",
      "metadata": {
        "id": "OWhhWVtE8nk2",
        "colab_type": "code",
        "colab": {}
      },
      "source": [
        "class ContentLoss(nn.Module):\n",
        "\n",
        "        def __init__(self, target,):\n",
        "            super(ContentLoss, self).__init__()\n",
        "            # we 'detach' the target content from the tree used\n",
        "            # to dynamically compute the gradient: this is a stated value,\n",
        "            # not a variable. Otherwise the forward method of the criterion\n",
        "            # will throw an error.\n",
        "            self.target = target.detach()#это константа. Убираем ее из дерева вычеслений\n",
        "            self.loss = F.mse_loss(self.target, self.target )#to initialize with something\n",
        "\n",
        "        def forward(self, input):\n",
        "            self.loss = F.mse_loss(input, self.target)\n",
        "            return input\n",
        "\n",
        "def gram_matrix(input):\n",
        "        batch_size , h, w, f_map_num = input.size()  # batch size(=1)\n",
        "        # b=number of feature maps\n",
        "        # (h,w)=dimensions of a feature map (N=h*w)\n",
        "\n",
        "        features = input.view(batch_size * h, w * f_map_num)  # resise F_XL into \\hat F_XL\n",
        "\n",
        "        G = torch.mm(features, features.t())  # compute the gram product\n",
        "\n",
        "        # we 'normalize' the values of the gram matrix\n",
        "        # by dividing by the number of element in each feature maps.\n",
        "        return G.div(batch_size * h * w * f_map_num)\n",
        "\n",
        "class StyleLoss(nn.Module):\n",
        "        def __init__(self, target_feature):\n",
        "            super(StyleLoss, self).__init__()\n",
        "            self.target = gram_matrix(target_feature).detach()\n",
        "            self.loss = F.mse_loss(self.target, self.target)# to initialize with something\n",
        "\n",
        "        def forward(self, input):\n",
        "            G = gram_matrix(input)\n",
        "            self.loss = F.mse_loss(G, self.target)\n",
        "            return input\n",
        "\n",
        "cnn_normalization_mean = torch.tensor([0.485, 0.456, 0.406]).to(device)\n",
        "cnn_normalization_std = torch.tensor([0.229, 0.224, 0.225]).to(device)"
      ],
      "execution_count": null,
      "outputs": []
    },
    {
      "cell_type": "code",
      "metadata": {
        "id": "n1BgOOe_8u-f",
        "colab_type": "code",
        "colab": {}
      },
      "source": [
        "class Normalization(nn.Module):\n",
        "        def __init__(self, mean, std):\n",
        "            super(Normalization, self).__init__()\n",
        "            # .view the mean and std to make them [C x 1 x 1] so that they can\n",
        "            # directly work with image Tensor of shape [B x C x H x W].\n",
        "            # B is batch size. C is number of channels. H is height and W is width.\n",
        "            self.mean = torch.tensor(mean).view(-1, 1, 1)\n",
        "            self.std = torch.tensor(std).view(-1, 1, 1)\n",
        "\n",
        "        def forward(self, img):\n",
        "            # normalize img\n",
        "            return (img - self.mean) / self.std\n",
        "            \n",
        "content_layers_default = ['conv_4']\n",
        "style_layers_default = ['conv_1', 'conv_2', 'conv_3', 'conv_4', 'conv_5']"
      ],
      "execution_count": null,
      "outputs": []
    },
    {
      "cell_type": "code",
      "metadata": {
        "id": "imHOlV-280gZ",
        "colab_type": "code",
        "colab": {
          "base_uri": "https://localhost:8080/",
          "height": 83,
          "referenced_widgets": [
            "c9a992afab904088ae8a20b950c58604",
            "73f497d4edbe4ecf8400e49f7e93f999",
            "2f7575c14cb645aea4f0da7cc32bde8c",
            "64d5f5670d6a420a810747b950b261b7",
            "b7bacdf262d04e0dacbd59f0200fc86c",
            "cc4a8d504cf84f428a8fd2211c5ed683",
            "58eeb3b8021145d7b931d1b501396724",
            "7ba51aeb459e496ba5f6be54dff068c6"
          ]
        },
        "outputId": "528c7fef-d3bb-42d8-8132-c897d72550e2"
      },
      "source": [
        "cnn = models.vgg19(pretrained=True).features.to(device).eval()"
      ],
      "execution_count": null,
      "outputs": [
        {
          "output_type": "stream",
          "text": [
            "Downloading: \"https://download.pytorch.org/models/vgg19-dcbb9e9d.pth\" to /root/.cache/torch/checkpoints/vgg19-dcbb9e9d.pth\n"
          ],
          "name": "stderr"
        },
        {
          "output_type": "display_data",
          "data": {
            "application/vnd.jupyter.widget-view+json": {
              "model_id": "c9a992afab904088ae8a20b950c58604",
              "version_minor": 0,
              "version_major": 2
            },
            "text/plain": [
              "HBox(children=(FloatProgress(value=0.0, max=574673361.0), HTML(value='')))"
            ]
          },
          "metadata": {
            "tags": []
          }
        },
        {
          "output_type": "stream",
          "text": [
            "\n"
          ],
          "name": "stdout"
        }
      ]
    },
    {
      "cell_type": "code",
      "metadata": {
        "id": "FH2OgMjJ83K6",
        "colab_type": "code",
        "colab": {}
      },
      "source": [
        "def get_style_model_and_losses(cnn, normalization_mean, normalization_std,\n",
        "                                   style_img, content_img,\n",
        "                                   content_layers=content_layers_default,\n",
        "                                   style_layers=style_layers_default):\n",
        "        cnn = copy.deepcopy(cnn)\n",
        "\n",
        "        # normalization module\n",
        "        normalization = Normalization(normalization_mean, normalization_std).to(device)\n",
        "\n",
        "        # just in order to have an iterable access to or list of content/syle\n",
        "        # losses\n",
        "        content_losses = []\n",
        "        style_losses = []\n",
        "\n",
        "        # assuming that cnn is a nn.Sequential, so we make a new nn.Sequential\n",
        "        # to put in modules that are supposed to be activated sequentially\n",
        "        model = nn.Sequential(normalization)\n",
        "\n",
        "        i = 0  # increment every time we see a conv\n",
        "        for layer in cnn.children():\n",
        "            if isinstance(layer, nn.Conv2d):\n",
        "                i += 1\n",
        "                name = 'conv_{}'.format(i)\n",
        "            elif isinstance(layer, nn.ReLU):\n",
        "                name = 'relu_{}'.format(i)\n",
        "                # The in-place version doesn't play very nicely with the ContentLoss\n",
        "                # and StyleLoss we insert below. So we replace with out-of-place\n",
        "                # ones here.\n",
        "                #Переопределим relu уровень\n",
        "                layer = nn.ReLU(inplace=False)\n",
        "            elif isinstance(layer, nn.MaxPool2d):\n",
        "                name = 'pool_{}'.format(i)\n",
        "            elif isinstance(layer, nn.BatchNorm2d):\n",
        "                name = 'bn_{}'.format(i)\n",
        "            else:\n",
        "                raise RuntimeError('Unrecognized layer: {}'.format(layer.__class__.__name__))\n",
        "\n",
        "            model.add_module(name, layer)\n",
        "\n",
        "            if name in content_layers:\n",
        "                # add content loss:\n",
        "                target = model(content_img).detach()\n",
        "                content_loss = ContentLoss(target)\n",
        "                model.add_module(\"content_loss_{}\".format(i), content_loss)\n",
        "                content_losses.append(content_loss)\n",
        "\n",
        "            if name in style_layers:\n",
        "                # add style loss:\n",
        "                target_feature = model(style_img).detach()\n",
        "                style_loss = StyleLoss(target_feature)\n",
        "                model.add_module(\"style_loss_{}\".format(i), style_loss)\n",
        "                style_losses.append(style_loss)\n",
        "\n",
        "        # now we trim off the layers after the last content and style losses\n",
        "        #выбрасываем все уровни после последенего styel loss или content loss\n",
        "        for i in range(len(model) - 1, -1, -1):\n",
        "            if isinstance(model[i], ContentLoss) or isinstance(model[i], StyleLoss):\n",
        "                break\n",
        "\n",
        "        model = model[:(i + 1)]\n",
        "\n",
        "        return model, style_losses, content_losses\n",
        "\n",
        "def get_input_optimizer(input_img):\n",
        "        # this line to show that input is a parameter that requires a gradient\n",
        "        #добоваляет содержимое тензора катринки в список изменяемых оптимизатором параметров\n",
        "        optimizer = optim.LBFGS([input_img.requires_grad_()]) \n",
        "        return optimizer\n",
        "\n",
        "def run_style_transfer(cnn, normalization_mean, normalization_std,\n",
        "                        content_img, style_img, input_img, num_steps=500,\n",
        "                        style_weight=100000, content_weight=1):\n",
        "        \"\"\"Run the style transfer.\"\"\"\n",
        "        print('Building the style transfer model..')\n",
        "        model, style_losses, content_losses = get_style_model_and_losses(cnn,\n",
        "            normalization_mean, normalization_std, style_img, content_img)\n",
        "        optimizer = get_input_optimizer(input_img)\n",
        "\n",
        "        print('Optimizing..')\n",
        "        run = [0]\n",
        "        while run[0] <= num_steps:\n",
        "\n",
        "            def closure():\n",
        "                # correct the values \n",
        "                # это для того, чтобы значения тензора картинки не выходили за пределы [0;1]\n",
        "                input_img.data.clamp_(0, 1)\n",
        "\n",
        "                optimizer.zero_grad()\n",
        "\n",
        "                model(input_img)\n",
        "\n",
        "                style_score = 0\n",
        "                content_score = 0\n",
        "\n",
        "                for sl in style_losses:\n",
        "                    style_score += sl.loss\n",
        "                for cl in content_losses:\n",
        "                    content_score += cl.loss\n",
        "                \n",
        "                #взвешивание ощибки\n",
        "                style_score *= style_weight\n",
        "                content_score *= content_weight\n",
        "\n",
        "                loss = style_score + content_score\n",
        "                loss.backward()\n",
        "\n",
        "                run[0] += 1\n",
        "                if run[0] % 50 == 0:\n",
        "                    print(\"run {}:\".format(run))\n",
        "                    print('Style Loss : {:4f} Content Loss: {:4f}'.format(\n",
        "                        style_score.item(), content_score.item()))\n",
        "                    print()\n",
        "\n",
        "                return style_score + content_score\n",
        "\n",
        "            optimizer.step(closure)\n",
        "\n",
        "        # a last correction...\n",
        "        input_img.data.clamp_(0, 1)\n",
        "\n",
        "        return input_img"
      ],
      "execution_count": null,
      "outputs": []
    },
    {
      "cell_type": "code",
      "metadata": {
        "id": "8cZjiYre9EDj",
        "colab_type": "code",
        "colab": {}
      },
      "source": [
        "# style_img = image_loader(\"style_image.jpg\")\n",
        "# content_img = image_loader(\"input_image.jpg\")\n",
        "\n",
        "# input_img = content_img.clone()\n",
        "# # if you want to use white noise instead uncomment the below line:\n",
        "# # input_img = torch.randn(content_img.data.size(), device=device)\n",
        "\n",
        "# # add the original input image to the figure:\n",
        "# plt.figure()\n",
        "# imshow(input_img, title='Input Image')\n",
        "# output = run_style_transfer(cnn, cnn_normalization_mean, cnn_normalization_std,\n",
        "#                             content_img, style_img, input_img)"
      ],
      "execution_count": null,
      "outputs": []
    },
    {
      "cell_type": "code",
      "metadata": {
        "id": "qgIcI7fmYG-o",
        "colab_type": "code",
        "colab": {}
      },
      "source": [
        "def run_style_transfer_bot():\n",
        "    style_img = image_loader(\"style_image.jpg\")\n",
        "    content_img = image_loader(\"input_image.jpg\")\n",
        "\n",
        "    input_img = content_img.clone()\n",
        "    output = run_style_transfer(cnn, cnn_normalization_mean, cnn_normalization_std,\n",
        "                            content_img, style_img, input_img)\n",
        "    plt.figure()\n",
        "    imshow(output, title='Output Image')\n",
        "\n",
        "    output_cpu = output.cpu().clone()   \n",
        "    output_cpu = output_cpu.squeeze(0)     \n",
        "    output_cpu = unloader(output_cpu)\n",
        "    plt.imshow(output_cpu)\n",
        "    output_cpu = output_cpu.save(\"output.jpg\")\n",
        "    plt.ioff()\n",
        "    plt.show()\n"
      ],
      "execution_count": null,
      "outputs": []
    },
    {
      "cell_type": "code",
      "metadata": {
        "id": "EIWpolIK9KYz",
        "colab_type": "code",
        "colab": {}
      },
      "source": [
        "# plt.figure()\n",
        "# imshow(output, title='Output Image')\n",
        "\n",
        "# output_cpu = output.cpu().clone()   \n",
        "# output_cpu = output_cpu.squeeze(0)     \n",
        "# output_cpu = unloader(output_cpu)\n",
        "# plt.imshow(output_cpu)\n",
        "# output_cpu = output_cpu.save(\"output.jpg\")\n",
        "# print(output_cpu.type)\n",
        "# plt.imsave('output.png', output_cpu)\n",
        "# sphinx_gallery_thumbnail_number = 4\n",
        "\n",
        "# plt.ioff()\n",
        "# plt.show()"
      ],
      "execution_count": null,
      "outputs": []
    },
    {
      "cell_type": "code",
      "metadata": {
        "id": "uZM3qM3MkSI3",
        "colab_type": "code",
        "colab": {}
      },
      "source": [
        "API_TOKEN = \"1078550318:AAGMOnDdc74oN711yNq4b1Voh7CPpIWD0C4\"\n",
        "bot = telebot.TeleBot(API_TOKEN)\n",
        "\n",
        "username = \"\"\n",
        "chat_id = 0\n",
        "\n",
        "ex_input = open(\"bw.jpg\", 'rb') #image for example (input)\n",
        "ex_style = open(\"climt.jpg\", 'rb') #image for example (style)\n",
        "\n",
        "# markup = types.ReplyKeyboardMarkup(row_width=2)\n",
        "# itembtn_input = types.KeyboardButton('input image')\n",
        "# itembtn_style = types.KeyboardButton('style image')\n",
        "\n",
        "# markup.add(itembtn_input, itembtn_style)\n",
        "count_images = [0, 0]\n",
        "\n",
        "@bot.message_handler(commands=['start'])\n",
        "def start(message):\n",
        "    chat_id = message.chat.id\n",
        "    username = message.from_user.username\n",
        "\n",
        "    bot.reply_to(message, \"Hello, \" + username + \", I'm style bot, based on NN\")\n",
        "    bot.send_message(chat_id, \"Send me two photos: base and style with caption(input | style), and I'll send you the result\")\n",
        "    bot.send_message(chat_id, \"Example(pay attention to the caption(text) !!!): \")\n",
        "    bot.send_photo(chat_id, ex_input, caption = \"input\")\n",
        "    bot.send_photo(chat_id, ex_style, caption = \"style\")\n",
        "    \n",
        "@bot.message_handler(content_types=['text'])\n",
        "def reply_choose_photo(message):\n",
        "    bot.reply_to(message, \"Begin with /start message\\n send me photos with CAPTION (INPUT / STYLE) as in the example\")\n",
        "\n",
        "@bot.message_handler(content_types=['photo'])\n",
        "def reply_photo_input(message):\n",
        "    try: \n",
        "        file_info_mes = bot.get_file(message.photo[-1].file_id)\n",
        "#     print(\"Hello \" + file_info_mes.file_path)\n",
        "        downloaded_file = bot.download_file(file_info_mes.file_path)\n",
        "        bot.reply_to(message, \"Yeay\")\n",
        "        global count_images\n",
        "\n",
        "        if message.caption.lower() == \"input\":\n",
        "            # print(\"input\")\n",
        "            with open('input_image.jpg', 'wb') as new_file:\n",
        "                new_file.write(downloaded_file)\n",
        "                count_images[0] = 1\n",
        "            \n",
        "        elif message.caption.lower() == \"style\":\n",
        "            # print(\"style\")\n",
        "            with open('style_image.jpg', 'wb') as new_file:\n",
        "                new_file.write(downloaded_file)\n",
        "                count_images[1] = 1\n",
        "        else:\n",
        "            bot.send_message(message.chat.id, \"Please, send corrent caption, as in the example\")\n",
        "\n",
        "        if count_images == [1, 1]:\n",
        "            bot.send_message(message.chat.id, \"It will take some minutes\")\n",
        "            run_style_transfer_bot() \n",
        "            bot.send_photo(message.chat.id, open('output.jpg', 'rb'))   \n",
        "            count_images = [0, 0]              \n",
        "    except Exception as inst:\n",
        "        print(type(inst))\n",
        "        print(inst.args)\n",
        "        print(inst)\n",
        "        bot.send_message(message.chat.id, \"Sorry, try again, send corrent caption, as in the example\")\n"
      ],
      "execution_count": null,
      "outputs": []
    },
    {
      "cell_type": "code",
      "metadata": {
        "id": "l-UmnrELkYzt",
        "colab_type": "code",
        "colab": {
          "base_uri": "https://localhost:8080/",
          "height": 68
        },
        "outputId": "e948f3ff-6d9b-4529-f324-05222dace9b2"
      },
      "source": [
        "bot.polling()"
      ],
      "execution_count": null,
      "outputs": [
        {
          "output_type": "stream",
          "text": [
            "<class 'AttributeError'>\n",
            "(\"'NoneType' object has no attribute 'lower'\",)\n",
            "'NoneType' object has no attribute 'lower'\n"
          ],
          "name": "stdout"
        }
      ]
    },
    {
      "cell_type": "markdown",
      "metadata": {
        "id": "jQX3LbMsiseB",
        "colab_type": "text"
      },
      "source": [
        "\\> stylm tramsmer"
      ]
    },
    {
      "cell_type": "code",
      "metadata": {
        "id": "cVdP58voqNel",
        "colab_type": "code",
        "colab": {}
      },
      "source": [
        ""
      ],
      "execution_count": null,
      "outputs": []
    }
  ]
}