{
 "cells": [
  {
   "cell_type": "code",
   "execution_count": 5,
   "metadata": {},
   "outputs": [
    {
     "name": "stdout",
     "output_type": "stream",
     "text": [
      "Requirement already satisfied: pyTelegramBotAPI in /home/darya/anaconda3/lib/python3.7/site-packages (3.7.1)\n",
      "Requirement already satisfied: requests in /home/darya/anaconda3/lib/python3.7/site-packages (from pyTelegramBotAPI) (2.22.0)\n",
      "Requirement already satisfied: six in /home/darya/anaconda3/lib/python3.7/site-packages (from pyTelegramBotAPI) (1.14.0)\n",
      "Requirement already satisfied: urllib3!=1.25.0,!=1.25.1,<1.26,>=1.21.1 in /home/darya/anaconda3/lib/python3.7/site-packages (from requests->pyTelegramBotAPI) (1.25.8)\n",
      "Requirement already satisfied: chardet<3.1.0,>=3.0.2 in /home/darya/anaconda3/lib/python3.7/site-packages (from requests->pyTelegramBotAPI) (3.0.4)\n",
      "Requirement already satisfied: certifi>=2017.4.17 in /home/darya/anaconda3/lib/python3.7/site-packages (from requests->pyTelegramBotAPI) (2019.11.28)\n",
      "Requirement already satisfied: idna<2.9,>=2.5 in /home/darya/anaconda3/lib/python3.7/site-packages (from requests->pyTelegramBotAPI) (2.8)\n"
     ]
    }
   ],
   "source": [
    "!pip install pyTelegramBotAPI\n",
    "import telebot\n",
    "import requests\n",
    "from telebot import types"
   ]
  },
  {
   "cell_type": "code",
   "execution_count": 67,
   "metadata": {},
   "outputs": [],
   "source": [
    "API_TOKEN = \"1078550318:AAGMOnDdc74oN711yNq4b1Voh7CPpIWD0C4\"\n",
    "bot = telebot.TeleBot(API_TOKEN)\n",
    "\n",
    "username = \"\"\n",
    "chat_id = 0\n",
    "\n",
    "markup = types.ReplyKeyboardMarkup(row_width=2)\n",
    "itembtn_input = types.KeyboardButton('input image')\n",
    "itembtn_style = types.KeyboardButton('style image')\n",
    "\n",
    "markup.add(itembtn_input, itembtn_style)\n",
    "\n",
    "@bot.message_handler(commands=['start'])\n",
    "def start(message):\n",
    "    chat_id = message.chat.id\n",
    "    username = message.from_user.username\n",
    "\n",
    "    bot.reply_to(message, \"Hello, \" + username)\n",
    "    bot.send_message(chat_id, \"Choose photo to load:\", reply_markup=markup)\n",
    "\n",
    "    \n",
    "@bot.message_handler(content_types=['text'])\n",
    "def reply_choose_photo(message):\n",
    "    if(message.text == \"style image\"):\n",
    "        bot.reply_to(message, \"Please, send style image\")\n",
    "    elif(message.text == \"input image\"):\n",
    "        bot.reply_to(message, \"Please, send input and style images\")\n",
    "    else:\n",
    "        bot.reply_to(message, \"Sorry, input another command\")\n",
    "\n",
    "@bot.message_handler(content_types=['photo'])\n",
    "def reply_photo_input(message):\n",
    "    file_info_mes = bot.get_file(message.photo[-1].file_id)\n",
    "#     print(\"Hello \" + file_info_mes.file_path)\n",
    "\n",
    "    downloaded_file = bot.download_file(file_info_mes.file_path)\n",
    "    bot.reply_to(message, \"Yeay\")\n",
    "    \n",
    "    if message.caption.lower() == \"input\":\n",
    "        print(\"input\")\n",
    "        with open('input_image.jpg', 'wb') as new_file:\n",
    "            new_file.write(downloaded_file)\n",
    "            \n",
    "    elif message.caption.lower() == \"style\":\n",
    "        print(\"style\")\n",
    "        with open('style_image.jpg', 'wb') as new_file:\n",
    "            new_file.write(downloaded_file)\n"
   ]
  },
  {
   "cell_type": "code",
   "execution_count": 68,
   "metadata": {},
   "outputs": [
    {
     "name": "stdout",
     "output_type": "stream",
     "text": [
      "input\n"
     ]
    }
   ],
   "source": [
    "bot.polling()"
   ]
  },
  {
   "cell_type": "code",
   "execution_count": 11,
   "metadata": {},
   "outputs": [
    {
     "name": "stdout",
     "output_type": "stream",
     "text": [
      " 10_Home_task_neural_on_pytorch\r\n",
      " 23Febr.jpg\r\n",
      " 4_Hometask_sklearn_and_knn\r\n",
      " Homework.ipynb\r\n",
      "'[homework]neural_networks_pytorch(2).ipynb'\r\n",
      "'[homework]neural_networks_pytorch(2).pdf'\r\n",
      "'[homework]neural_networks_pytorch - advanced - Jupyter Notebook.pdf'\r\n",
      "'[homework]neural_networks_pytorch.ipynb'\r\n",
      "'[homework,prodv]OOP_and_optimization.ipynb'\r\n",
      "'[homework]pytorch_basics.ipynb'\r\n",
      " pandasguide.pdf\r\n",
      " README.md\r\n",
      "'[seminar,basic]linalg.ipynb'\r\n",
      "'[seminar,basic]numpy.ipynb'\r\n",
      "'[seminar]derivative_gradient.ipynb'\r\n",
      "'[seminar]matplotlib.ipynb'\r\n",
      "'[seminar]pandas.ipynb'\r\n",
      "'[seminar,prodv]2_linalg.ipynb'\r\n",
      "'[seminar,prodv]2_Numpy.ipynb'\r\n",
      "'[seminar, prodv]matplotlib.ipynb'\r\n",
      "'[seminar, prodv]ml_basics.ipynb'\r\n",
      "'[seminar, prodv]pandas.ipynb'\r\n",
      " simpsons\r\n",
      " TelegramBot_StyleTransfer.ipynb\r\n",
      " Untitled.ipynb\r\n",
      "'Серикпаев_Георгий_[homework]neural_networks_pytorch.ipynb'\r\n"
     ]
    }
   ],
   "source": [
    "!ls "
   ]
  },
  {
   "cell_type": "code",
   "execution_count": null,
   "metadata": {},
   "outputs": [],
   "source": []
  }
 ],
 "metadata": {
  "kernelspec": {
   "display_name": "Python 3",
   "language": "python",
   "name": "python3"
  },
  "language_info": {
   "codemirror_mode": {
    "name": "ipython",
    "version": 3
   },
   "file_extension": ".py",
   "mimetype": "text/x-python",
   "name": "python",
   "nbconvert_exporter": "python",
   "pygments_lexer": "ipython3",
   "version": "3.7.6"
  }
 },
 "nbformat": 4,
 "nbformat_minor": 4
}
